{
    "cells": [
        {
            "metadata": {},
            "cell_type": "markdown",
            "source": "# Description\n\nThis notebook analyze and vizualize precipitation data"
        },
        {
            "metadata": {},
            "cell_type": "code",
            "source": "\nimport types\nimport pandas as pd\nfrom botocore.client import Config\nimport ibm_boto3\n\ndef __iter__(self): return 0\n\n# @hidden_cell\n# The following code accesses a file in your IBM Cloud Object Storage. It includes your credentials.\n# You might want to remove those credentials before you share the notebook.\nclient_2919ce502c844e3d902c3b1545c18df3 = ibm_boto3.client(service_name='s3',\n    ibm_api_key_id='xxxxxxxxxxxxxxxxxxxxxxxxxxxxxxxxxxxxxxxxxxxx',\n    ibm_auth_endpoint=\"https://iam.cloud.ibm.com/xxxx/xxxxx\",\n    config=Config(signature_version='oauth'),\n    endpoint_url='https://s3-api.xx-xxx.xxxxxxxxxxxx.service.networklayer.com')\n\nbody = client_xxxxxxxxxxxxxxxxxxxxxxxxxxxxxx.get_object(Bucket='practiceproject-donotdelete-pr-xxxxxxxxxx',Key='PRECIP_15_sample_csv.csv')['Body']\n# add missing __iter__ method, so pandas accepts body as file-like object\nif not hasattr(body, \"__iter__\"): body.__iter__ = types.MethodType( __iter__, body )\ndf_data_1 = pd.read_csv(body)\ndf_data_1.head()\n",
            "execution_count": 3,
            "outputs": [
                {
                    "output_type": "execute_result",
                    "execution_count": 3,
                    "data": {
                        "text/plain": "       STATION       STATION_NAME  ELEVATION  LATITUDE  LONGITUDE  \\\n0  COOP:311564  CATALOOCHEE NC US      798.9  35.61667      -83.1   \n1  COOP:311564  CATALOOCHEE NC US      798.9  35.61667      -83.1   \n2  COOP:311564  CATALOOCHEE NC US      798.9  35.61667      -83.1   \n3  COOP:311564  CATALOOCHEE NC US      798.9  35.61667      -83.1   \n4  COOP:311564  CATALOOCHEE NC US      798.9  35.61667      -83.1   \n\n             DATE  QPCP Measurement Flag Quality Flag Units  \n0  19840101 00:15     0                g                 HI  \n1  19840104 22:45     1                                  HI  \n2  19840105 00:30     1                                  HI  \n3  19840105 01:30     1                                  HI  \n4  19840105 02:15     1                                  HI  ",
                        "text/html": "<div>\n<style scoped>\n    .dataframe tbody tr th:only-of-type {\n        vertical-align: middle;\n    }\n\n    .dataframe tbody tr th {\n        vertical-align: top;\n    }\n\n    .dataframe thead th {\n        text-align: right;\n    }\n</style>\n<table border=\"1\" class=\"dataframe\">\n  <thead>\n    <tr style=\"text-align: right;\">\n      <th></th>\n      <th>STATION</th>\n      <th>STATION_NAME</th>\n      <th>ELEVATION</th>\n      <th>LATITUDE</th>\n      <th>LONGITUDE</th>\n      <th>DATE</th>\n      <th>QPCP</th>\n      <th>Measurement Flag</th>\n      <th>Quality Flag</th>\n      <th>Units</th>\n    </tr>\n  </thead>\n  <tbody>\n    <tr>\n      <th>0</th>\n      <td>COOP:311564</td>\n      <td>CATALOOCHEE NC US</td>\n      <td>798.9</td>\n      <td>35.61667</td>\n      <td>-83.1</td>\n      <td>19840101 00:15</td>\n      <td>0</td>\n      <td>g</td>\n      <td></td>\n      <td>HI</td>\n    </tr>\n    <tr>\n      <th>1</th>\n      <td>COOP:311564</td>\n      <td>CATALOOCHEE NC US</td>\n      <td>798.9</td>\n      <td>35.61667</td>\n      <td>-83.1</td>\n      <td>19840104 22:45</td>\n      <td>1</td>\n      <td></td>\n      <td></td>\n      <td>HI</td>\n    </tr>\n    <tr>\n      <th>2</th>\n      <td>COOP:311564</td>\n      <td>CATALOOCHEE NC US</td>\n      <td>798.9</td>\n      <td>35.61667</td>\n      <td>-83.1</td>\n      <td>19840105 00:30</td>\n      <td>1</td>\n      <td></td>\n      <td></td>\n      <td>HI</td>\n    </tr>\n    <tr>\n      <th>3</th>\n      <td>COOP:311564</td>\n      <td>CATALOOCHEE NC US</td>\n      <td>798.9</td>\n      <td>35.61667</td>\n      <td>-83.1</td>\n      <td>19840105 01:30</td>\n      <td>1</td>\n      <td></td>\n      <td></td>\n      <td>HI</td>\n    </tr>\n    <tr>\n      <th>4</th>\n      <td>COOP:311564</td>\n      <td>CATALOOCHEE NC US</td>\n      <td>798.9</td>\n      <td>35.61667</td>\n      <td>-83.1</td>\n      <td>19840105 02:15</td>\n      <td>1</td>\n      <td></td>\n      <td></td>\n      <td>HI</td>\n    </tr>\n  </tbody>\n</table>\n</div>"
                    },
                    "metadata": {}
                }
            ]
        },
        {
            "metadata": {},
            "cell_type": "code",
            "source": "",
            "execution_count": null,
            "outputs": []
        }
    ],
    "metadata": {
        "kernelspec": {
            "name": "python3",
            "display_name": "Python 3.7",
            "language": "python"
        },
        "language_info": {
            "name": "python",
            "version": "3.7.9",
            "mimetype": "text/x-python",
            "codemirror_mode": {
                "name": "ipython",
                "version": 3
            },
            "pygments_lexer": "ipython3",
            "nbconvert_exporter": "python",
            "file_extension": ".py"
        }
    },
    "nbformat": 4,
    "nbformat_minor": 1
}